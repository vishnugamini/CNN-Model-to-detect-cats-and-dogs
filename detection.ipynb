{
 "cells": [
  {
   "cell_type": "markdown",
   "metadata": {
    "id": "3DR-eO17geWu"
   },
   "source": [
    "# Convolutional Neural Network"
   ]
  },
  {
   "cell_type": "markdown",
   "metadata": {
    "id": "EMefrVPCg-60"
   },
   "source": [
    "### Importing the libraries"
   ]
  },
  {
   "cell_type": "code",
   "execution_count": 1,
   "metadata": {
    "id": "auhahGAe3ZKg"
   },
   "outputs": [],
   "source": [
    "import tensorflow as tf\n",
    "from keras.preprocessing.image import ImageDataGenerator"
   ]
  },
  {
   "cell_type": "code",
   "execution_count": 2,
   "metadata": {
    "colab": {
     "base_uri": "https://localhost:8080/",
     "height": 36
    },
    "id": "TXRvfEle4kY9",
    "outputId": "2517bebf-1dbc-4c85-8a29-1d38081f06b8"
   },
   "outputs": [
    {
     "data": {
      "text/plain": [
       "'2.12.0'"
      ]
     },
     "execution_count": 2,
     "metadata": {},
     "output_type": "execute_result"
    }
   ],
   "source": [
    "tf.__version__"
   ]
  },
  {
   "cell_type": "markdown",
   "metadata": {
    "id": "oxQxCBWyoGPE"
   },
   "source": [
    "## Part 1 - Data Preprocessing"
   ]
  },
  {
   "cell_type": "markdown",
   "metadata": {
    "id": "MvE-heJNo3GG"
   },
   "source": [
    "### Preprocessing the Training set"
   ]
  },
  {
   "cell_type": "code",
   "execution_count": 3,
   "metadata": {
    "id": "iVMiSlrMXGaH"
   },
   "outputs": [
    {
     "name": "stdout",
     "output_type": "stream",
     "text": [
      "Found 8000 images belonging to 2 classes.\n"
     ]
    }
   ],
   "source": [
    "train_datagen = ImageDataGenerator(\n",
    "    rescale = 1.0/255,\n",
    "    shear_range = 0.2, # this make the image tilt/slant in different direction\n",
    "    zoom_range = 0.2,\n",
    "    horizontal_flip = True\n",
    ")\n",
    "\n",
    "training_set = train_datagen.flow_from_directory(\n",
    "    'dataset/training_set',\n",
    "    target_size = (150,150), #width and height of image that will be fed to convolutional neural network,\n",
    "    batch_size = 32,\n",
    "    class_mode = 'categorical' # since output is just 2 classes class_mode is binary, if it is anymore than 2 then categorical should be used.\n",
    ")"
   ]
  },
  {
   "cell_type": "markdown",
   "metadata": {
    "id": "mrCMmGw9pHys"
   },
   "source": [
    "### Preprocessing the Test set"
   ]
  },
  {
   "cell_type": "code",
   "execution_count": 4,
   "metadata": {
    "id": "glJkI5NAgoVs"
   },
   "outputs": [
    {
     "name": "stdout",
     "output_type": "stream",
     "text": [
      "Found 2000 images belonging to 2 classes.\n"
     ]
    }
   ],
   "source": [
    "test_datagen = ImageDataGenerator(\n",
    "    rescale = 1./255,\n",
    ")\n",
    "\n",
    "test_set = test_datagen.flow_from_directory(\n",
    "    'dataset/test_set',\n",
    "    target_size = (150,150),\n",
    "    batch_size = 32,\n",
    "    class_mode = 'categorical'\n",
    ")"
   ]
  },
  {
   "cell_type": "markdown",
   "metadata": {
    "id": "af8O4l90gk7B"
   },
   "source": [
    "## Part 2 - Building the CNN"
   ]
  },
  {
   "cell_type": "markdown",
   "metadata": {
    "id": "ces1gXY2lmoX"
   },
   "source": [
    "### Initialising the CNN"
   ]
  },
  {
   "cell_type": "code",
   "execution_count": 5,
   "metadata": {
    "id": "IugIahdBhwp1"
   },
   "outputs": [],
   "source": [
    "cnn = tf.keras.models.Sequential()"
   ]
  },
  {
   "cell_type": "markdown",
   "metadata": {
    "id": "u5YJj_XMl5LF"
   },
   "source": [
    "### Step 1 - Convolution"
   ]
  },
  {
   "cell_type": "code",
   "execution_count": 6,
   "metadata": {
    "id": "nR_1U7sriCoX"
   },
   "outputs": [],
   "source": [
    "cnn.add(tf.keras.layers.Conv2D(filters = 32, kernel_size = 3, activation = 'relu', input_shape = [150,150,3]))\n",
    "# here filters are the number of feature detectors that will be taken \n",
    "# kernel size is the size of feature detector(size 3 as in 3X3 matrix)\n",
    "# input shape inlcludes 3 things [target size, target size, (3 or 1) 3 for colored images and 1 for black and white ]\n"
   ]
  },
  {
   "cell_type": "markdown",
   "metadata": {
    "id": "tf87FpvxmNOJ"
   },
   "source": [
    "### Step 2 - Pooling"
   ]
  },
  {
   "cell_type": "markdown",
   "metadata": {
    "id": "yPe_kJOEne6F"
   },
   "source": []
  },
  {
   "cell_type": "code",
   "execution_count": 7,
   "metadata": {
    "id": "hYpffbxMkKU1"
   },
   "outputs": [],
   "source": [
    "# applying max pooling\n",
    "cnn.add(tf.keras.layers.MaxPool2D(pool_size= 2, strides = 2))"
   ]
  },
  {
   "cell_type": "markdown",
   "metadata": {
    "id": "xaTOgD8rm4mU"
   },
   "source": [
    "### Adding a second convolutional layer"
   ]
  },
  {
   "cell_type": "code",
   "execution_count": 8,
   "metadata": {
    "id": "8xhvuLVwkoxK"
   },
   "outputs": [],
   "source": [
    "cnn.add(tf.keras.layers.Conv2D(filters = 32, kernel_size = 3, activation = 'relu'))\n",
    "# input shape for convolution layer is added only for the first layer and not for any other layers\n",
    "cnn.add(tf.keras.layers.MaxPool2D(pool_size = 2, strides = 2))"
   ]
  },
  {
   "cell_type": "markdown",
   "metadata": {
    "id": "tmiEuvTunKfk"
   },
   "source": [
    "### Step 3 - Flattening"
   ]
  },
  {
   "cell_type": "code",
   "execution_count": 9,
   "metadata": {
    "id": "KWokjdsplgdG"
   },
   "outputs": [],
   "source": [
    "cnn.add(tf.keras.layers.Flatten())"
   ]
  },
  {
   "cell_type": "markdown",
   "metadata": {
    "id": "dAoSECOm203v"
   },
   "source": [
    "### Step 4 - Full Connection"
   ]
  },
  {
   "cell_type": "code",
   "execution_count": 10,
   "metadata": {
    "id": "hZttNEkLl0qQ"
   },
   "outputs": [],
   "source": [
    "cnn.add(tf.keras.layers.Dense(units = 128, activation = 'relu'))\n",
    "# relu -> rectifier activation function\n",
    "# here this is creating a hidden layer and there is \n",
    "# no specific unit count for this layer, although as it is computer vision and\n",
    "# invovles pixels, it is recommended to choose a higher unit count"
   ]
  },
  {
   "cell_type": "markdown",
   "metadata": {
    "id": "yTldFvbX28Na"
   },
   "source": [
    "### Step 5 - Output Layer"
   ]
  },
  {
   "cell_type": "code",
   "execution_count": 11,
   "metadata": {
    "id": "3XWxMh3Emy3a"
   },
   "outputs": [],
   "source": [
    "cnn.add(tf.keras.layers.Dense(units = 2, activation = 'softmax'))\n",
    "# this is an output layer so, the activation function is sigmoid\n",
    "# if it is a multiclass classfification, activation would be \"softmax\""
   ]
  },
  {
   "cell_type": "markdown",
   "metadata": {
    "id": "D6XkI90snSDl"
   },
   "source": [
    "## Part 3 - Training the CNN"
   ]
  },
  {
   "cell_type": "markdown",
   "metadata": {
    "id": "vfrFQACEnc6i"
   },
   "source": [
    "### Compiling the CNN"
   ]
  },
  {
   "cell_type": "code",
   "execution_count": 12,
   "metadata": {
    "id": "Gk8Rsq3CnjXR"
   },
   "outputs": [],
   "source": [
    "cnn.compile(optimizer = 'adam', loss = 'categorical_crossentropy', metrics = ['accuracy'])\n"
   ]
  },
  {
   "cell_type": "markdown",
   "metadata": {
    "id": "ehS-v3MIpX2h"
   },
   "source": [
    "### Training the CNN on the Training set and evaluating it on the Test set"
   ]
  },
  {
   "cell_type": "code",
   "execution_count": 13,
   "metadata": {
    "id": "CIkl0-beoH6s"
   },
   "outputs": [
    {
     "name": "stdout",
     "output_type": "stream",
     "text": [
      "Epoch 1/40\n",
      "250/250 [==============================] - 88s 347ms/step - loss: 0.6926 - accuracy: 0.5947 - val_loss: 0.6618 - val_accuracy: 0.6255\n",
      "Epoch 2/40\n",
      "250/250 [==============================] - 86s 344ms/step - loss: 0.6301 - accuracy: 0.6506 - val_loss: 0.6201 - val_accuracy: 0.6835\n",
      "Epoch 3/40\n",
      "250/250 [==============================] - 90s 362ms/step - loss: 0.5962 - accuracy: 0.6850 - val_loss: 0.5839 - val_accuracy: 0.6975\n",
      "Epoch 4/40\n",
      "250/250 [==============================] - 89s 357ms/step - loss: 0.5724 - accuracy: 0.7013 - val_loss: 0.5887 - val_accuracy: 0.7010\n",
      "Epoch 5/40\n",
      "250/250 [==============================] - 88s 351ms/step - loss: 0.5447 - accuracy: 0.7219 - val_loss: 0.5545 - val_accuracy: 0.7280\n",
      "Epoch 6/40\n",
      "250/250 [==============================] - 91s 362ms/step - loss: 0.5144 - accuracy: 0.7489 - val_loss: 0.5431 - val_accuracy: 0.7325\n",
      "Epoch 7/40\n",
      "250/250 [==============================] - 93s 373ms/step - loss: 0.4996 - accuracy: 0.7536 - val_loss: 0.5292 - val_accuracy: 0.7435\n",
      "Epoch 8/40\n",
      "250/250 [==============================] - 90s 361ms/step - loss: 0.4818 - accuracy: 0.7654 - val_loss: 0.5363 - val_accuracy: 0.7410\n",
      "Epoch 9/40\n",
      "250/250 [==============================] - 91s 362ms/step - loss: 0.4452 - accuracy: 0.7910 - val_loss: 0.5182 - val_accuracy: 0.7655\n",
      "Epoch 10/40\n",
      "250/250 [==============================] - 91s 362ms/step - loss: 0.4323 - accuracy: 0.7981 - val_loss: 0.5044 - val_accuracy: 0.7760\n",
      "Epoch 11/40\n",
      "250/250 [==============================] - 91s 362ms/step - loss: 0.4103 - accuracy: 0.8131 - val_loss: 0.5267 - val_accuracy: 0.7755\n",
      "Epoch 12/40\n",
      "250/250 [==============================] - 90s 361ms/step - loss: 0.3849 - accuracy: 0.8261 - val_loss: 0.4999 - val_accuracy: 0.7740\n",
      "Epoch 13/40\n",
      "250/250 [==============================] - 89s 354ms/step - loss: 0.3720 - accuracy: 0.8375 - val_loss: 0.5539 - val_accuracy: 0.7575\n",
      "Epoch 14/40\n",
      "250/250 [==============================] - 88s 352ms/step - loss: 0.3463 - accuracy: 0.8440 - val_loss: 0.5902 - val_accuracy: 0.7590\n",
      "Epoch 15/40\n",
      "250/250 [==============================] - 88s 354ms/step - loss: 0.3277 - accuracy: 0.8529 - val_loss: 0.5614 - val_accuracy: 0.7825\n",
      "Epoch 16/40\n",
      "250/250 [==============================] - 90s 360ms/step - loss: 0.3122 - accuracy: 0.8650 - val_loss: 0.5441 - val_accuracy: 0.7775\n",
      "Epoch 17/40\n",
      "250/250 [==============================] - 90s 359ms/step - loss: 0.3051 - accuracy: 0.8714 - val_loss: 0.5775 - val_accuracy: 0.7650\n",
      "Epoch 18/40\n",
      "250/250 [==============================] - 90s 360ms/step - loss: 0.2836 - accuracy: 0.8804 - val_loss: 0.5681 - val_accuracy: 0.7730\n",
      "Epoch 19/40\n",
      "250/250 [==============================] - 91s 362ms/step - loss: 0.2635 - accuracy: 0.8894 - val_loss: 0.5826 - val_accuracy: 0.7850\n",
      "Epoch 20/40\n",
      "250/250 [==============================] - 88s 351ms/step - loss: 0.2519 - accuracy: 0.8986 - val_loss: 0.5991 - val_accuracy: 0.7785\n",
      "Epoch 21/40\n",
      "250/250 [==============================] - 94s 377ms/step - loss: 0.2349 - accuracy: 0.9046 - val_loss: 0.5747 - val_accuracy: 0.7860\n",
      "Epoch 22/40\n",
      "250/250 [==============================] - 91s 366ms/step - loss: 0.2271 - accuracy: 0.9061 - val_loss: 0.6322 - val_accuracy: 0.7730\n",
      "Epoch 23/40\n",
      "250/250 [==============================] - 97s 386ms/step - loss: 0.2077 - accuracy: 0.9181 - val_loss: 0.6698 - val_accuracy: 0.7840\n",
      "Epoch 24/40\n",
      "250/250 [==============================] - 95s 378ms/step - loss: 0.2168 - accuracy: 0.9129 - val_loss: 0.6630 - val_accuracy: 0.7820\n",
      "Epoch 25/40\n",
      "250/250 [==============================] - 93s 374ms/step - loss: 0.1855 - accuracy: 0.9260 - val_loss: 0.6985 - val_accuracy: 0.7780\n",
      "Epoch 26/40\n",
      "250/250 [==============================] - 93s 372ms/step - loss: 0.1701 - accuracy: 0.9354 - val_loss: 0.7162 - val_accuracy: 0.7875\n",
      "Epoch 27/40\n",
      "250/250 [==============================] - 95s 381ms/step - loss: 0.1851 - accuracy: 0.9264 - val_loss: 0.6619 - val_accuracy: 0.7815\n",
      "Epoch 28/40\n",
      "250/250 [==============================] - 156s 624ms/step - loss: 0.1748 - accuracy: 0.9321 - val_loss: 0.7137 - val_accuracy: 0.7630\n",
      "Epoch 29/40\n",
      "250/250 [==============================] - 99s 397ms/step - loss: 0.1543 - accuracy: 0.9409 - val_loss: 0.7653 - val_accuracy: 0.7775\n",
      "Epoch 30/40\n",
      "250/250 [==============================] - 92s 368ms/step - loss: 0.1615 - accuracy: 0.9364 - val_loss: 0.7163 - val_accuracy: 0.7860\n",
      "Epoch 31/40\n",
      "250/250 [==============================] - 90s 360ms/step - loss: 0.1377 - accuracy: 0.9486 - val_loss: 0.7809 - val_accuracy: 0.7905\n",
      "Epoch 32/40\n",
      "250/250 [==============================] - 90s 359ms/step - loss: 0.1357 - accuracy: 0.9460 - val_loss: 0.7810 - val_accuracy: 0.7870\n",
      "Epoch 33/40\n",
      "250/250 [==============================] - 87s 349ms/step - loss: 0.1382 - accuracy: 0.9513 - val_loss: 0.8425 - val_accuracy: 0.7835\n",
      "Epoch 34/40\n",
      "250/250 [==============================] - 88s 351ms/step - loss: 0.1290 - accuracy: 0.9515 - val_loss: 0.8198 - val_accuracy: 0.7895\n",
      "Epoch 35/40\n",
      "250/250 [==============================] - 88s 351ms/step - loss: 0.1208 - accuracy: 0.9564 - val_loss: 0.8967 - val_accuracy: 0.7755\n",
      "Epoch 36/40\n",
      "250/250 [==============================] - 90s 360ms/step - loss: 0.1126 - accuracy: 0.9603 - val_loss: 0.8528 - val_accuracy: 0.7780\n",
      "Epoch 37/40\n",
      "250/250 [==============================] - 105s 419ms/step - loss: 0.1200 - accuracy: 0.9560 - val_loss: 0.8364 - val_accuracy: 0.7860\n",
      "Epoch 38/40\n",
      "250/250 [==============================] - 110s 441ms/step - loss: 0.1056 - accuracy: 0.9589 - val_loss: 0.8785 - val_accuracy: 0.7880\n",
      "Epoch 39/40\n",
      "250/250 [==============================] - 121s 484ms/step - loss: 0.1154 - accuracy: 0.9590 - val_loss: 0.8724 - val_accuracy: 0.7840\n",
      "Epoch 40/40\n",
      "250/250 [==============================] - 86s 345ms/step - loss: 0.1013 - accuracy: 0.9615 - val_loss: 0.8810 - val_accuracy: 0.7845\n"
     ]
    },
    {
     "data": {
      "text/plain": [
       "<keras.callbacks.History at 0x22bb1b929e0>"
      ]
     },
     "execution_count": 13,
     "metadata": {},
     "output_type": "execute_result"
    }
   ],
   "source": [
    "cnn.fit(x = training_set, validation_data = test_set, epochs = 40)\n",
    "# over here we are both training the model using training data and \n",
    "# evaluating the model using test data"
   ]
  },
  {
   "cell_type": "markdown",
   "metadata": {},
   "source": [
    "## saving our model"
   ]
  },
  {
   "cell_type": "code",
   "execution_count": 60,
   "metadata": {},
   "outputs": [
    {
     "name": "stderr",
     "output_type": "stream",
     "text": [
      "WARNING:absl:Found untraced functions such as _jit_compiled_convolution_op, _jit_compiled_convolution_op, _update_step_xla while saving (showing 3 of 3). These functions will not be directly callable after loading.\n"
     ]
    },
    {
     "name": "stdout",
     "output_type": "stream",
     "text": [
      "INFO:tensorflow:Assets written to: ./saved_model/assets\n"
     ]
    },
    {
     "name": "stderr",
     "output_type": "stream",
     "text": [
      "INFO:tensorflow:Assets written to: ./saved_model/assets\n"
     ]
    }
   ],
   "source": [
    "tf.keras.models.save_model(cnn,'./saved_model/')"
   ]
  },
  {
   "cell_type": "markdown",
   "metadata": {
    "id": "U3PZasO0006Z"
   },
   "source": [
    "## Part 4 - Making a single prediction"
   ]
  },
  {
   "cell_type": "code",
   "execution_count": 86,
   "metadata": {
    "id": "1FRPzt5gqrtz"
   },
   "outputs": [
    {
     "data": {
      "text/plain": [
       "{'cats': 0, 'dogs': 1}"
      ]
     },
     "execution_count": 86,
     "metadata": {},
     "output_type": "execute_result"
    }
   ],
   "source": [
    "training_set.class_indices \n",
    "# this gives us a result which shows what result (or what number (0,1)) \n",
    "# corresponds to which class (dog,cat)"
   ]
  },
  {
   "cell_type": "code",
   "execution_count": 96,
   "metadata": {},
   "outputs": [
    {
     "name": "stdout",
     "output_type": "stream",
     "text": [
      "1/1 [==============================] - 0s 51ms/step\n"
     ]
    }
   ],
   "source": [
    "import numpy as np\n",
    "from keras.utils import load_img, img_to_array\n",
    "test_image = load_img('dataset/single_prediction/cat_or_dog_2.jpg',\n",
    "                            target_size = (150,150))\n",
    "test_image = img_to_array(test_image) # converting PIL image instance to array\n",
    "test_image = np.expand_dims(test_image, axis = 0)\n",
    "# expand dims is used because the model was trained in batches and it expects \n",
    "# the test-img to also be in a batch, so are manipulating the tensor by adding\n",
    "# an extra dimension, an extra dimension is being added as the CNN model can\n",
    "# recognize the extra dimension as a batch\n",
    "model = tf.keras.models.load_model('./saved_model/')\n",
    "result = model.predict(test_image/255.0)\n",
    "# 255.0 as the image needs to be normalized which means essentially\n",
    "# pixel range must be b/w 0 & 1\n",
    "\n",
    "# since we added a dimension, the result cannot be directly accessed.\n",
    "# instead we first get into the dimension which is the first bracket [0]\n",
    "# and then our result lies in the first value (we are dealing with single image \n",
    "# so there will only be one value inside the second bracket)\n",
    "result = tf.argmax(result,axis=-1)\n",
    "\n"
   ]
  },
  {
   "cell_type": "code",
   "execution_count": 98,
   "metadata": {},
   "outputs": [
    {
     "name": "stdout",
     "output_type": "stream",
     "text": [
      "[0]\n"
     ]
    }
   ],
   "source": [
    "print(result.numpy())"
   ]
  },
  {
   "cell_type": "code",
   "execution_count": 99,
   "metadata": {
    "id": "JcN_L2QAvtGV"
   },
   "outputs": [
    {
     "name": "stdout",
     "output_type": "stream",
     "text": [
      "cats\n"
     ]
    }
   ],
   "source": [
    "for animal,number in training_set.class_indices.items():\n",
    "    if number == result.numpy()[0]:\n",
    "        print(animal)\n",
    "    "
   ]
  },
  {
   "cell_type": "code",
   "execution_count": null,
   "metadata": {},
   "outputs": [],
   "source": []
  }
 ],
 "metadata": {
  "colab": {
   "provenance": []
  },
  "kernelspec": {
   "display_name": "Python 3 (ipykernel)",
   "language": "python",
   "name": "python3"
  },
  "language_info": {
   "codemirror_mode": {
    "name": "ipython",
    "version": 3
   },
   "file_extension": ".py",
   "mimetype": "text/x-python",
   "name": "python",
   "nbconvert_exporter": "python",
   "pygments_lexer": "ipython3",
   "version": "3.10.9"
  }
 },
 "nbformat": 4,
 "nbformat_minor": 1
}
